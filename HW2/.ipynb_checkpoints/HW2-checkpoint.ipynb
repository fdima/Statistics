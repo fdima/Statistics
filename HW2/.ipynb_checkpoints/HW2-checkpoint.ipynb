{
 "cells": [
  {
   "cell_type": "code",
   "execution_count": 4,
   "metadata": {},
   "outputs": [],
   "source": [
    "from math import factorial\n",
    "import numpy as np\n",
    "\n",
    "def combinations(n, k):\n",
    "    return int(factorial(n) / (factorial(k) * factorial(n - k)))"
   ]
  },
  {
   "cell_type": "markdown",
   "metadata": {},
   "source": [
    "### 1. Вероятность того, что стрелок попадет в мишень, выстрелив один раз, равна 0.8. Стрелок выстрелил 100 раз. Найдите вероятность того, что стрелок попадет в цель ровно 85 раз."
   ]
  },
  {
   "cell_type": "code",
   "execution_count": 10,
   "metadata": {},
   "outputs": [
    {
     "name": "stdout",
     "output_type": "stream",
     "text": [
      "0.048061793700746556\n"
     ]
    }
   ],
   "source": [
    "#Бернулли, где p - вероятность попадания(0,8), а k - вероятность промаха(1-0,8 = 0,2)\n",
    "print(combinations(100, 85) * 0.8**85 * 0.2**15)"
   ]
  },
  {
   "cell_type": "markdown",
   "metadata": {},
   "source": [
    "### 2. Вероятность того, что лампочка перегорит в течение первого дня эксплуатации, равна 0.0004. В жилом комплексе после ремонта в один день включили 5000 новых лампочек. Какова вероятность, что ни одна из них не перегорит в первый день? Какова вероятность, что перегорят ровно две?"
   ]
  },
  {
   "cell_type": "code",
   "execution_count": 11,
   "metadata": {
    "scrolled": true
   },
   "outputs": [
    {
     "name": "stdout",
     "output_type": "stream",
     "text": [
      "Вероятность что ни одна не перегорит:  0.1353352832366127\n",
      "Вероятность что перегорят 2:  0.2706705664732254\n"
     ]
    }
   ],
   "source": [
    "# по формуле Пуассона. лямбда = количество лампочек * вероятность перегорания\n",
    "n = 5000\n",
    "p_ = 0.0004\n",
    "_lambda = n * p_\n",
    "\n",
    "def puasson(m):\n",
    "    return (_lambda**m/factorial(m)*np.exp(-_lambda))\n",
    "\n",
    "print('Вероятность что ни одна не перегорит: ', puasson(0))\n",
    "print('Вероятность что перегорят 2: ', puasson(2))\n"
   ]
  },
  {
   "cell_type": "markdown",
   "metadata": {},
   "source": [
    "### 3. Монету подбросили 144 раза. Какова вероятность, что орел выпадет ровно 70 раз?"
   ]
  },
  {
   "cell_type": "code",
   "execution_count": 12,
   "metadata": {},
   "outputs": [
    {
     "name": "stdout",
     "output_type": "stream",
     "text": [
      "0.06281178035144776\n"
     ]
    }
   ],
   "source": [
    "#Бернулли:\n",
    "print(combinations(144,70) * 0.5**70 * 0.5**(144-70))"
   ]
  },
  {
   "cell_type": "markdown",
   "metadata": {},
   "source": [
    "### 4. В первом ящике находится 10 мячей, из которых 7 - белые. Во втором ящике - 11 мячей, из которых 9 белых. Из каждого ящика вытаскивают случайным образом по два мяча. \n",
    "#### Какова вероятность того, что все мячи белые? \n",
    "#### Какова вероятность того, что ровно два мяча белые? \n",
    "#### Какова вероятность того, что хотя бы один мяч белый?"
   ]
  },
  {
   "cell_type": "code",
   "execution_count": 18,
   "metadata": {},
   "outputs": [
    {
     "name": "stdout",
     "output_type": "stream",
     "text": [
      "0.3054545454545454\n"
     ]
    }
   ],
   "source": [
    "#1. Все белые\n",
    "print(7/10 * 6/9 * 9/11 * 8/10)"
   ]
  },
  {
   "cell_type": "code",
   "execution_count": 20,
   "metadata": {},
   "outputs": [
    {
     "name": "stdout",
     "output_type": "stream",
     "text": [
      "0.20484848484848484\n"
     ]
    }
   ],
   "source": [
    "#2. Два белые\n",
    "\n",
    "#из первой корзины\n",
    "k1_1 = 7/10 * 6/9 # 2 белых\n",
    "k1_2 = 3/10 * 2/9 # 2 не белых\n",
    "k1_3 = 7/10 * 3/9 # 1 белый + 1 не белый\n",
    "k1_4 = 3/10 * 7/9 # 1 не белый + 1 белый\n",
    "\n",
    "#из второй корзины\n",
    "k2_1 = 9/11 * 8/10 # 2 белых\n",
    "k2_2 = 2/11 * 1/10 # 2 не белых\n",
    "k2_3 = 9/11 * 2/10 # 1 белый + 1 не белый\n",
    "k2_4 = 2/11 * 9/10 # 1 не белый + 1 белый\n",
    "\n",
    "# из 1-ой конзины 2 белых мача, из второй 2 не белых\n",
    "p1 = k1_1 * k2_2\n",
    "\n",
    "# из 1-ой конзины 2 не белых мача, а из второй 2 белых\n",
    "p2 = k1_2 * k2_1\n",
    "\n",
    "# из 1-ой конзины 1 белый мач, и из второй 1 белй\n",
    "p3 = (k1_3 + k1_4) * (k2_3 + k2_4)\n",
    "\n",
    "print(p1 + p2 + p3)"
   ]
  },
  {
   "cell_type": "code",
   "execution_count": 22,
   "metadata": {},
   "outputs": [
    {
     "name": "stdout",
     "output_type": "stream",
     "text": [
      "0.9987878787878788\n"
     ]
    }
   ],
   "source": [
    "#3. Хотя бы один мяч белый (обратное вычисление, все не белые)\n",
    "\n",
    "rp = 3/10 * 2/9 * 2/11 * 1/10\n",
    "\n",
    "print(1 - rp)"
   ]
  },
  {
   "cell_type": "code",
   "execution_count": null,
   "metadata": {},
   "outputs": [],
   "source": []
  }
 ],
 "metadata": {
  "kernelspec": {
   "display_name": "Python 3",
   "language": "python",
   "name": "python3"
  },
  "language_info": {
   "codemirror_mode": {
    "name": "ipython",
    "version": 3
   },
   "file_extension": ".py",
   "mimetype": "text/x-python",
   "name": "python",
   "nbconvert_exporter": "python",
   "pygments_lexer": "ipython3",
   "version": "3.7.3"
  }
 },
 "nbformat": 4,
 "nbformat_minor": 2
}
