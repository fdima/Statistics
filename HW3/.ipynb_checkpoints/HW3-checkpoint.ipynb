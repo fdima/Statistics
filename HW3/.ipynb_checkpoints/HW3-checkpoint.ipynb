{
 "cells": [
  {
   "cell_type": "code",
   "execution_count": 1,
   "metadata": {},
   "outputs": [],
   "source": [
    "from math import factorial\n",
    "import numpy as np\n",
    "\n",
    "def combinations(n, k):\n",
    "    return int(factorial(n) / (factorial(k) * factorial(n - k)))"
   ]
  },
  {
   "cell_type": "markdown",
   "metadata": {},
   "source": [
    "#### 1. Даны значения зарплат из выборки выпускников: 100, 80, 75, 77, 89, 33, 45, 25, 65, 17, 30, 24, 57, 55, 70, 75, 65, 84, 90, 150. Посчитать (желательно без использования статистических методов наподобие std, var, mean) среднее арифметическое, среднее квадратичное отклонение, смещенную и несмещенную оценки дисперсий для данной выборки."
   ]
  },
  {
   "cell_type": "code",
   "execution_count": 2,
   "metadata": {},
   "outputs": [
    {
     "name": "stdout",
     "output_type": "stream",
     "text": [
      "[ 17  24  25  30  33  45  55  57  65  65  70  75  75  77  80  84  89  90\n",
      " 100 150]\n"
     ]
    }
   ],
   "source": [
    "ar = np.array([100, 80, 75, 77, 89, 33, 45, 25, 65, 17, 30, 24, 57, 55, 70, 75, 65, 84, 90, 150])\n",
    "ar.sort()\n",
    "print (ar)"
   ]
  },
  {
   "cell_type": "code",
   "execution_count": 6,
   "metadata": {},
   "outputs": [
    {
     "name": "stdout",
     "output_type": "stream",
     "text": [
      "65.3 = 65.3\n"
     ]
    }
   ],
   "source": [
    "# Среднее арифметическое\n",
    "mean = np.sum(ar) / len(ar)\n",
    "print(f\"{mean} = {ar.mean()}\")"
   ]
  },
  {
   "cell_type": "code",
   "execution_count": 9,
   "metadata": {},
   "outputs": [
    {
     "name": "stdout",
     "output_type": "stream",
     "text": [
      "30.823854398825596 = 30.823854398825592\n"
     ]
    }
   ],
   "source": [
    "# Среднее квадратическое отклонение\n",
    "sun = 0\n",
    "for i in ar:\n",
    "    sun = sun + (i - mean)**2\n",
    "s = (sun/len(ar))**(1/2)\n",
    "print(f\"{s} = {ar.std()}\")"
   ]
  },
  {
   "cell_type": "code",
   "execution_count": 12,
   "metadata": {},
   "outputs": [
    {
     "name": "stdout",
     "output_type": "stream",
     "text": [
      "\n",
      "Cмещенная:\n",
      "\n",
      "950.11 = 950.1099999999999\n",
      "\n",
      "Несмещенная:\n",
      "\n",
      "1000.1157894736842 = 1000.115789473684\n"
     ]
    }
   ],
   "source": [
    "# Дисперсия\n",
    "d = s ** 2\n",
    "print('\\nCмещенная:\\n')\n",
    "print(f\"{d} = {ar.var()}\")\n",
    "\n",
    "print('\\nНесмещенная:\\n')\n",
    "dn = (su/(len(ar)-1))\n",
    "print(f\"{dn} = {ar.var(ddof=1)}\")"
   ]
  },
  {
   "cell_type": "markdown",
   "metadata": {},
   "source": [
    "#### 2. В первом ящике находится 8 мячей, из которых 5 - белые. Во втором ящике - 12 мячей, из которых 5 белых. Из первого ящика вытаскивают случайным образом два мяча, из второго - 4. Какова вероятность того, что 3 мяча белые?"
   ]
  },
  {
   "cell_type": "code",
   "execution_count": 13,
   "metadata": {},
   "outputs": [
    {
     "data": {
      "text/plain": [
       "0.1262626262626263"
      ]
     },
     "execution_count": 13,
     "metadata": {},
     "output_type": "execute_result"
    }
   ],
   "source": [
    "# P, что 2 белых из 1-ого и 1 белый из 2-ого\n",
    "p_1 = (5/8 * 4/7) * (5/12 * 7/11 * 6/10 * 5/9) * 4  # 4 - количество вариантов комбинаций расположения белого меча из 2-й корз. \n",
    "p_1"
   ]
  },
  {
   "cell_type": "code",
   "execution_count": 14,
   "metadata": {},
   "outputs": [
    {
     "data": {
      "text/plain": [
       "0.22727272727272718"
      ]
     },
     "execution_count": 14,
     "metadata": {},
     "output_type": "execute_result"
    }
   ],
   "source": [
    "# P, что 1 белый из 1-ого и 2 белых из второго\n",
    "p_2 = 2 * (5/8 * 3/7) * (5/12 * 4/11 * 7/10 * 6/9) * 6 \n",
    "p_2"
   ]
  },
  {
   "cell_type": "code",
   "execution_count": 17,
   "metadata": {},
   "outputs": [
    {
     "data": {
      "text/plain": [
       "0.01515151515151515"
      ]
     },
     "execution_count": 17,
     "metadata": {},
     "output_type": "execute_result"
    }
   ],
   "source": [
    "# P, что 0 белых из 1-ого и 3 белых из второго\n",
    "p_3 = (3/8 * 2/7) * (5/12 * 4/11 * 3/10 * 7/9) * 4\n",
    "p_3"
   ]
  },
  {
   "cell_type": "code",
   "execution_count": 18,
   "metadata": {},
   "outputs": [
    {
     "name": "stdout",
     "output_type": "stream",
     "text": [
      "0.3686868686868686\n"
     ]
    }
   ],
   "source": [
    "print(p_1 + p_2 + p_3)"
   ]
  },
  {
   "cell_type": "markdown",
   "metadata": {},
   "source": [
    "#### 3. На соревновании по биатлону один из трех спортсменов стреляет и попадает в мишень. Вероятность попадания для первого спортсмена равна 0.9, для второго — 0.8, для третьего — 0.6. Найти вероятность того, что выстрел произведен: a). первым спортсменом б). вторым спортсменом в). третьим спортсменом."
   ]
  },
  {
   "cell_type": "code",
   "execution_count": 19,
   "metadata": {},
   "outputs": [
    {
     "data": {
      "text/plain": [
       "0.391304347826087"
      ]
     },
     "execution_count": 19,
     "metadata": {},
     "output_type": "execute_result"
    }
   ],
   "source": [
    "# формула Байеса\n",
    "\n",
    "# P, это спортсмен 1\n",
    "p1 = (1/3 * .9) / (1/3 * .9 + 1/3 * .8 + 1/3 * .6)\n",
    "p1"
   ]
  },
  {
   "cell_type": "code",
   "execution_count": 20,
   "metadata": {},
   "outputs": [
    {
     "data": {
      "text/plain": [
       "0.3478260869565218"
      ]
     },
     "execution_count": 20,
     "metadata": {},
     "output_type": "execute_result"
    }
   ],
   "source": [
    "# P, это спортсмен 2\n",
    "p2 = (1/3 * .8) / (1/3 * .9 + 1/3 * .8 + 1/3 * .6)\n",
    "p2"
   ]
  },
  {
   "cell_type": "code",
   "execution_count": 23,
   "metadata": {},
   "outputs": [
    {
     "data": {
      "text/plain": [
       "0.2608695652173913"
      ]
     },
     "execution_count": 23,
     "metadata": {},
     "output_type": "execute_result"
    }
   ],
   "source": [
    "# P, это спортсмен 3\n",
    "p3 = (1/3 * .6) / (1/3 * .9 + 1/3 * .8 + 1/3 * .6)\n",
    "p3"
   ]
  },
  {
   "cell_type": "code",
   "execution_count": 22,
   "metadata": {},
   "outputs": [
    {
     "name": "stdout",
     "output_type": "stream",
     "text": [
      "1.0\n"
     ]
    }
   ],
   "source": [
    "print(p1 + p2 + p3)"
   ]
  },
  {
   "cell_type": "markdown",
   "metadata": {},
   "source": [
    "#### 4. В университет на факультеты A и B поступило равное количество студентов, а на факультет C студентов поступило столько же, сколько на A и B вместе. Вероятность того, что студент факультета A сдаст первую сессию, равна 0.8. Для студента факультета B эта вероятность равна 0.7, а для студента факультета C - 0.9. Студент сдал первую сессию. Какова вероятность, что он учится: a). на факультете A б). на факультете B в). на факультете C?"
   ]
  },
  {
   "cell_type": "code",
   "execution_count": 24,
   "metadata": {},
   "outputs": [
    {
     "name": "stdout",
     "output_type": "stream",
     "text": [
      "pA = 0.24242424242424246\n",
      "pB = 0.21212121212121213\n",
      "pC = 0.5454545454545455\n"
     ]
    }
   ],
   "source": [
    "# формула Бернулли\n",
    "\n",
    "# количество студентов С = кол-во А + кол-во В, то вероятность, \n",
    "# что студент будет из факультета А = 1/4, из В = 1/4, а из С = 1/2 (1/4 + 1/4)\n",
    "\n",
    "pA = 1/4 * .8 / (1/4 * .8 + 1/4 * .7 + 1/2 * .9)\n",
    "pB = 1/4 * .7 / (1/4 * .8 + 1/4 * .7 + 1/2 * .9)\n",
    "pC = 1/2 * .9 / (1/4 * .8 + 1/4 * .7 + 1/2 * .9)\n",
    "\n",
    "print(f\"pA = {pA}\")\n",
    "print(f\"pB = {pB}\")\n",
    "print(f\"pC = {pC}\")\n"
   ]
  },
  {
   "cell_type": "markdown",
   "metadata": {},
   "source": [
    "#### 5. Устройство состоит из трех деталей. Для первой детали вероятность выйти из строя в первый месяц равна 0.1, для второй - 0.2, для третьей - 0.25. Какова вероятность того, что в первый месяц выйдут из строя: а). все детали б). только две детали в). хотя бы одна деталь г). от одной до двух деталей?"
   ]
  },
  {
   "cell_type": "code",
   "execution_count": 26,
   "metadata": {},
   "outputs": [
    {
     "name": "stdout",
     "output_type": "stream",
     "text": [
      "Все детали P1:  0.005000000000000001\n",
      "Только 2 детали:  0.08000000000000002\n",
      "Хотя бы одна делать:  0.46\n",
      "От одной до двух деталей: 0.455\n"
     ]
    }
   ],
   "source": [
    "P1 = .1 * .2 * .25\n",
    "print('Все детали P1: ', P1)\n",
    "\n",
    "P2 = .1 * .2 * (1 - .25) + .2 * .25 * (1 - .1) + .1 * .25 * (1 - .2)\n",
    "print('Только 2 детали: ', P2)\n",
    "\n",
    "# Для решения пункта в) нужно найти вероятность что ровно 1 деталь выйдет из строя и сложить с пп а) и б)\n",
    "P3_ = 0.1 * (1 - 0.2) * (1 - 0.25) + (1 - 0.1) * 0.2 * (1 - 0.25) + (1 - 0.1) * (1 - 0.2) * 0.25\n",
    "P3 =  P3_ + P1 + P2\n",
    "print('Хотя бы одна делать: ', P3)\n",
    "\n",
    "# от одной до двух деталей = вероятность что 1 деталь + вероятность что 2 детали\n",
    "P4 = P3_ + P2\n",
    "print('От одной до двух деталей:', P4)"
   ]
  }
 ],
 "metadata": {
  "kernelspec": {
   "display_name": "Python 3",
   "language": "python",
   "name": "python3"
  },
  "language_info": {
   "codemirror_mode": {
    "name": "ipython",
    "version": 3
   },
   "file_extension": ".py",
   "mimetype": "text/x-python",
   "name": "python",
   "nbconvert_exporter": "python",
   "pygments_lexer": "ipython3",
   "version": "3.7.3"
  }
 },
 "nbformat": 4,
 "nbformat_minor": 2
}
