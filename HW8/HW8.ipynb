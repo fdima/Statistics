{
 "cells": [
  {
   "cell_type": "code",
   "execution_count": 1,
   "metadata": {},
   "outputs": [],
   "source": [
    "import numpy as np\n",
    "from scipy.stats import f_oneway\n",
    "from scipy import stats"
   ]
  },
  {
   "cell_type": "markdown",
   "metadata": {},
   "source": [
    "#### 1.Провести дисперсионный анализ для определения того, есть ли различия среднего роста среди взрослых футболистов, хоккеистов и штангистов. Даны значения роста в трех группах случайно выбранных спортсменов: Футболисты: 173, 175, 180, 178, 177, 185, 183, 182. Хоккеисты: 177, 179, 180, 188, 177, 172, 171, 184, 180. Штангисты: 172, 173, 169, 177, 166, 180, 178, 177, 172, 166, 170."
   ]
  },
  {
   "cell_type": "code",
   "execution_count": 2,
   "metadata": {},
   "outputs": [],
   "source": [
    "fb   = np.array([173, 175, 180, 178, 177, 185, 183, 182])\n",
    "hock = np.array([177, 179, 180, 188, 177, 172, 171, 184, 180])\n",
    "sht  = np.array([172, 173, 169, 177, 166, 180, 178, 177, 172, 166, 170])"
   ]
  },
  {
   "cell_type": "code",
   "execution_count": 3,
   "metadata": {},
   "outputs": [
    {
     "name": "stdout",
     "output_type": "stream",
     "text": [
      "Среднее футболистов =  179.125\n",
      "Среднее хоккеистов  =  178.66666666666666\n",
      "Среднее штангистов  =  172.72727272727272\n"
     ]
    }
   ],
   "source": [
    "print('Среднее футболистов = ', fb.mean())\n",
    "print('Среднее хоккеистов  = ', hock.mean())\n",
    "print('Среднее штангистов  = ', sht.mean())"
   ]
  },
  {
   "cell_type": "code",
   "execution_count": 4,
   "metadata": {},
   "outputs": [
    {
     "name": "stdout",
     "output_type": "stream",
     "text": [
      "Среднее общее =  176.46428571428572\n"
     ]
    }
   ],
   "source": [
    "z = np.concatenate([fb, hock, sht])\n",
    "print('Среднее общее = ', z.mean())"
   ]
  },
  {
   "cell_type": "code",
   "execution_count": 5,
   "metadata": {},
   "outputs": [
    {
     "name": "stdout",
     "output_type": "stream",
     "text": [
      "Сумма квадратов отклонений наблюдений от общего среднего =  830.9642857142854\n"
     ]
    }
   ],
   "source": [
    "S = ((z - z.mean()) **2).sum()\n",
    "print('Сумма квадратов отклонений наблюдений от общего среднего = ', S)"
   ]
  },
  {
   "cell_type": "code",
   "execution_count": 6,
   "metadata": {},
   "outputs": [
    {
     "name": "stdout",
     "output_type": "stream",
     "text": [
      "Сумма квадратов отклонений СРЕДНИХ ГРУППОВЫХ ЗНАЧЕНИЙ от общего среднего =  253.9074675324678\n"
     ]
    }
   ],
   "source": [
    "S_f = len(fb)*(fb.mean()-z.mean())**2 + len(hock)*(hock.mean()-z.mean()) ** 2 + len(sht)*(sht.mean()-z.mean())**2\n",
    "print('Сумма квадратов отклонений СРЕДНИХ ГРУППОВЫХ ЗНАЧЕНИЙ от общего среднего = ', S_f)"
   ]
  },
  {
   "cell_type": "code",
   "execution_count": 7,
   "metadata": {},
   "outputs": [
    {
     "name": "stdout",
     "output_type": "stream",
     "text": [
      "Остаточная сумма квадратов отклонений =  577.0568181818182\n"
     ]
    }
   ],
   "source": [
    "S_ost = ((fb - fb.mean()) ** 2).sum() + ((hock - hock.mean()) ** 2).sum() + ((sht - sht.mean()) ** 2).sum()\n",
    "print('Остаточная сумма квадратов отклонений = ', S_ost)"
   ]
  },
  {
   "cell_type": "code",
   "execution_count": 8,
   "metadata": {},
   "outputs": [
    {
     "name": "stdout",
     "output_type": "stream",
     "text": [
      "830.9642857142854\n",
      "830.964285714286\n"
     ]
    }
   ],
   "source": [
    "print(S)\n",
    "print(S_f + S_ost)"
   ]
  },
  {
   "cell_type": "code",
   "execution_count": 9,
   "metadata": {},
   "outputs": [
    {
     "name": "stdout",
     "output_type": "stream",
     "text": [
      "Остаточная дисперсия =  126.9537337662339\n",
      "Факторная дисперсия =  23.08227272727273\n"
     ]
    }
   ],
   "source": [
    "# дисперсии\n",
    "\n",
    "k = 3\n",
    "n = len(fb) + len(hock) + len(sht)\n",
    "g_f = S_f / (k - 1)\n",
    "g_o = S_ost / (n - k)\n",
    "print('Остаточная дисперсия = ', g_f)\n",
    "print('Факторная дисперсия = ', g_o)"
   ]
  },
  {
   "cell_type": "code",
   "execution_count": 10,
   "metadata": {},
   "outputs": [
    {
     "data": {
      "text/plain": [
       "5.500053450812598"
      ]
     },
     "execution_count": 10,
     "metadata": {},
     "output_type": "execute_result"
    }
   ],
   "source": [
    "F_n = g_f / g_o\n",
    "F_n"
   ]
  },
  {
   "cell_type": "code",
   "execution_count": 11,
   "metadata": {},
   "outputs": [
    {
     "data": {
      "text/plain": [
       "3.3851899614491687"
      ]
     },
     "execution_count": 11,
     "metadata": {},
     "output_type": "execute_result"
    }
   ],
   "source": [
    "alpha = 0.05\n",
    "F_crit = stats.f.ppf(1 - alpha, (k-1), (n-k))\n",
    "F_crit"
   ]
  },
  {
   "cell_type": "markdown",
   "metadata": {},
   "source": [
    "#### Вывод: \n",
    "F_n (5.5) > F_crit (3.4)  -  следовательно, на уровне значимости 0,05, различия между группами <b>статистически значимые</b>!"
   ]
  },
  {
   "cell_type": "code",
   "execution_count": 12,
   "metadata": {},
   "outputs": [
    {
     "data": {
      "text/plain": [
       "F_onewayResult(statistic=5.500053450812596, pvalue=0.010482206918698694)"
      ]
     },
     "execution_count": 12,
     "metadata": {},
     "output_type": "execute_result"
    }
   ],
   "source": [
    "f_oneway(fb, hock, sht)"
   ]
  },
  {
   "cell_type": "markdown",
   "metadata": {},
   "source": [
    "#### Попарный расчет"
   ]
  },
  {
   "cell_type": "code",
   "execution_count": 13,
   "metadata": {},
   "outputs": [
    {
     "name": "stdout",
     "output_type": "stream",
     "text": [
      "Футболисты vs Хоккеисты (0.017954425013249283, 3.738891832440735)\n",
      "Футболисты vs Штангисты (4.344845902234844, 3.63372346759163)\n",
      "Хоккеисты vs Штангисты (3.239444444444443, 3.5915305684750827)\n"
     ]
    }
   ],
   "source": [
    "fb = np.array([173, 175, 180, 178, 177, 185, 183, 182])\n",
    "hock = np.array([177, 179, 180, 188, 177, 172, 171, 184, 180])\n",
    "sht = np.array([172, 173, 169, 177, 166, 180, 178, 177, 172, 166, 170])\n",
    "\n",
    "def func(a,b):\n",
    "    z = np.concatenate([a, b])\n",
    "    S = ((z - z.mean()) **2).sum()\n",
    "    S_f = len(a)*(a.mean()-z.mean())**2 + len(b)*(b.mean()-z.mean()) ** 2\n",
    "    S_ost = ((a - a.mean()) ** 2).sum() + ((b - b.mean()) ** 2).sum()\n",
    "    k = 3\n",
    "    n = len(a) + len(b)\n",
    "    g_f = S_f / (k - 1)\n",
    "    g_o = S_ost / (n - k)\n",
    "    F_n = g_f / g_o\n",
    "    alpha = 0.05\n",
    "    F_crit = stats.f.ppf(1 - alpha, (k-1), (n-k))\n",
    "    return F_n, F_crit\n",
    "    \n",
    "print('Футболисты vs Хоккеисты', func(fb, hock))\n",
    "print('Футболисты vs Штангисты', func(fb, sht))\n",
    "print('Хоккеисты vs Штангисты', func(hock, sht))"
   ]
  },
  {
   "cell_type": "markdown",
   "metadata": {},
   "source": [
    "#### Дополнительный вывод: \n",
    "\n",
    "Различия между группами статистически значимые на уровне 5% т.е. штангистов больше и их среднее сильно меньше среднего по футболистам. \n",
    "Самые большие отличия между футболистами и штангистами.\n",
    "в случае сравнения других группа стоит рассмотреть увеличение выборки"
   ]
  }
 ],
 "metadata": {
  "kernelspec": {
   "display_name": "Python 3",
   "language": "python",
   "name": "python3"
  },
  "language_info": {
   "codemirror_mode": {
    "name": "ipython",
    "version": 3
   },
   "file_extension": ".py",
   "mimetype": "text/x-python",
   "name": "python",
   "nbconvert_exporter": "python",
   "pygments_lexer": "ipython3",
   "version": "3.7.3"
  }
 },
 "nbformat": 4,
 "nbformat_minor": 2
}
